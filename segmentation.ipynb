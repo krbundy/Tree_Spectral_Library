{
 "cells": [
  {
   "cell_type": "markdown",
   "source": [
    "# LecoSpec Image Segmentation"
   ],
   "metadata": {}
  },
  {
   "cell_type": "code",
   "execution_count": 2,
   "source": [
    "library(raster)"
   ],
   "outputs": [
    {
     "output_type": "stream",
     "name": "stderr",
     "text": [
      "Warning message:\n",
      "\"package 'raster' was built under R version 4.1.1\"\n",
      "Loading required package: sp\n",
      "\n",
      "Warning message:\n",
      "\"package 'sp' was built under R version 4.1.1\"\n"
     ]
    }
   ],
   "metadata": {}
  },
  {
   "cell_type": "code",
   "execution_count": 3,
   "source": [
    "library(itcSegment)\n",
    "test <- \"some string\"\n",
    "test_2 <- \"another String\""
   ],
   "outputs": [
    {
     "output_type": "stream",
     "name": "stderr",
     "text": [
      "Loading required package: maptools\n",
      "\n",
      "Warning message:\n",
      "\"package 'maptools' was built under R version 4.1.1\"\n",
      "Checking rgeos availability: TRUE\n",
      "Please note that 'maptools' will be retired by the end of 2023,\n",
      "plan transition at your earliest convenience;\n",
      "some functionality will be moved to 'sp'.\n",
      "\n",
      "Loading required package: rgeos\n",
      "\n",
      "Warning message:\n",
      "\"package 'rgeos' was built under R version 4.1.1\"\n",
      "rgeos version: 0.5-7, (SVN revision 676)\n",
      " GEOS runtime version: 3.9.1-CAPI-1.14.2 \n",
      " Please note that rgeos will be retired by the end of 2023,\n",
      "plan transition to sf functions using GEOS at your earliest convenience.\n",
      " GEOS using OverlayNG\n",
      " Linking to sp version: 1.4-5 \n",
      " Polygon checking: TRUE \n",
      "\n",
      "\n"
     ]
    }
   ],
   "metadata": {}
  },
  {
   "cell_type": "code",
   "execution_count": 5,
   "source": [
    "source(\"./Scripts/Segmentation/crop_and_classify.R\")"
   ],
   "outputs": [
    {
     "output_type": "stream",
     "name": "stderr",
     "text": [
      "Loading required package: rgdal\n",
      "\n",
      "Warning message:\n",
      "\"package 'rgdal' was built under R version 4.1.1\"\n",
      "Please note that rgdal will be retired by the end of 2023,\n",
      "plan transition to sf/stars/terra functions using GDAL and PROJ\n",
      "at your earliest convenience.\n",
      "\n",
      "rgdal: version: 1.5-25, (SVN revision 1143)\n",
      "Geospatial Data Abstraction Library extensions to R successfully loaded\n",
      "Loaded GDAL runtime: GDAL 3.2.1, released 2020/12/29\n",
      "Path to GDAL shared files: C:/Users/kenne/Documents/R/win-library/4.1/rgdal/gdal\n",
      "GDAL binary built with GEOS: TRUE \n",
      "Loaded PROJ runtime: Rel. 7.2.1, January 1st, 2021, [PJ_VERSION: 721]\n",
      "Path to PROJ shared files: C:/Users/kenne/Documents/R/win-library/4.1/rgdal/proj\n",
      "PROJ CDN enabled: FALSE\n",
      "Linking to sp version:1.4-5\n",
      "To mute warnings of possible GDAL/OSR exportToProj4() degradation,\n",
      "use options(\"rgdal_show_exportToProj4_warnings\"=\"none\") before loading sp or rgdal.\n",
      "Overwritten PROJ_LIB was C:/Users/kenne/Documents/R/win-library/4.1/rgdal/proj\n",
      "\n",
      "Loading required package: sf\n",
      "\n",
      "Warning message:\n",
      "\"package 'sf' was built under R version 4.1.1\"\n",
      "Linking to GEOS 3.9.1, GDAL 3.2.1, PROJ 7.2.1\n",
      "\n"
     ]
    }
   ],
   "metadata": {}
  },
  {
   "cell_type": "code",
   "execution_count": 6,
   "source": [
    "epsg_code <- 26983\n",
    "target_wkt <- sf::st_crs(epsg_code)[[2]]\n",
    "target_crs <- sp::CRS(target_wkt)"
   ],
   "outputs": [],
   "metadata": {}
  },
  {
   "cell_type": "code",
   "execution_count": 7,
   "source": [
    "print(getwd())"
   ],
   "outputs": [
    {
     "output_type": "stream",
     "name": "stdout",
     "text": [
      "[1] \"c:/Users/kenne/Documents/GitHub/Tree_Spectral_Library\"\n"
     ]
    }
   ],
   "metadata": {}
  },
  {
   "cell_type": "code",
   "execution_count": 27,
   "source": [
    "base_tile_path <- paste0(\n",
    "    getwd(),\n",
    "    \"/Data/raw_15366_rd_rf_or/Tiles/A_001_raw_15366_rd_rf_or_Tile_\"\n",
    "    )\n",
    "tile_paths <- c(\n",
    "    paste0(base_tile_path, 16, \".envi\"),\n",
    "    paste0(base_tile_path, 17, \".envi\"),\n",
    "    paste0(base_tile_path, 18, \".envi\"),\n",
    "    paste0(base_tile_path, 19, \".envi\"),\n",
    "    paste0(base_tile_path, 20, \".envi\")\n",
    ")\n",
    "print(tile_paths)\n",
    "\n",
    "# define function to merge the tiles and extract the correct band\n",
    "# should live in general lecospec\n",
    "merge_tiles <- function(input_files, output_path = NA) {\n",
    "\n",
    "    master_raster <- raster::brick(input_files[[1]])\n",
    "        #print(\"Extent of first tile:\")\n",
    "        #print(raster::extent(master_raster))\n",
    "\n",
    "    for (input_file in tail(input_files, -1)) {\n",
    "        new_raster <- raster::brick(input_file)\n",
    "        #print(\"Extent of tile:\")\n",
    "        #print(raster::extent(new_raster))\n",
    "        master_raster <- raster::merge(\n",
    "            master_raster,\n",
    "            new_raster,\n",
    "            tolerance = 0.5)\n",
    "        \n",
    "    }\n",
    "    if(!is.na(output_path)) {\n",
    "        raster::writeRaster(master_raster, output_path)\n",
    "    }\n",
    "\n",
    "    return(master_raster)\n",
    "}\n",
    "\n",
    "# load the data from the relevant tiles\n",
    "test_raster <- merge_tiles(\n",
    "    tile_paths,\n",
    "    output_path = \"./Outputs/merged_tiles.tif\")\n",
    "\n",
    "\n"
   ],
   "outputs": [
    {
     "output_type": "stream",
     "name": "stdout",
     "text": [
      "[1] \"c:/Users/kenne/Documents/GitHub/Tree_Spectral_Library/Data/raw_15366_rd_rf_or/Tiles/A_001_raw_15366_rd_rf_or_Tile_16.envi\"\n",
      "[2] \"c:/Users/kenne/Documents/GitHub/Tree_Spectral_Library/Data/raw_15366_rd_rf_or/Tiles/A_001_raw_15366_rd_rf_or_Tile_17.envi\"\n",
      "[3] \"c:/Users/kenne/Documents/GitHub/Tree_Spectral_Library/Data/raw_15366_rd_rf_or/Tiles/A_001_raw_15366_rd_rf_or_Tile_18.envi\"\n",
      "[4] \"c:/Users/kenne/Documents/GitHub/Tree_Spectral_Library/Data/raw_15366_rd_rf_or/Tiles/A_001_raw_15366_rd_rf_or_Tile_19.envi\"\n",
      "[5] \"c:/Users/kenne/Documents/GitHub/Tree_Spectral_Library/Data/raw_15366_rd_rf_or/Tiles/A_001_raw_15366_rd_rf_or_Tile_20.envi\"\n"
     ]
    },
    {
     "output_type": "error",
     "ename": "ERROR",
     "evalue": "Error in rgdal::putRasterData(x@file@transient, vv, band = i, offset = off): Failure during raster IO\n\n",
     "traceback": [
      "Error in rgdal::putRasterData(x@file@transient, vv, band = i, offset = off): Failure during raster IO\n\nTraceback:\n",
      "1. merge_tiles(tile_paths, output_path = \"./Outputs/merged_tiles.tif\")",
      "2. raster::writeRaster(master_raster, output_path)   # at line 33 of file <text>",
      "3. raster::writeRaster(master_raster, output_path)",
      "4. .local(x, filename, ...)",
      "5. writeValues(b, v, tr$row[i])",
      "6. writeValues(b, v, tr$row[i])",
      "7. .local(x, v, ...)",
      "8. rgdal::putRasterData(x@file@transient, vv, band = i, offset = off)"
     ]
    }
   ],
   "metadata": {}
  },
  {
   "cell_type": "code",
   "execution_count": 19,
   "source": [
    "full_datacube_path <- \"E:/lecospec/raw_2000_rd_rf_or\"\n",
    "full_cube <- raster::brick(full_datacube_path)"
   ],
   "outputs": [
    {
     "output_type": "stream",
     "name": "stdout",
     "text": [
      "CRS arguments: +proj=longlat +datum=WGS84 +no_defs \n"
     ]
    }
   ],
   "metadata": {}
  },
  {
   "cell_type": "code",
   "execution_count": 22,
   "source": [
    "print(\"CRS and extent of Test Raster\")\n",
    "print(crs(test_raster))\n",
    "print(extent(test_raster))\n",
    "\n",
    "print(\"CRS and extent of Full Datacube\")\n",
    "print(crs(full_cube))\n",
    "print(extent(full_cube))\n"
   ],
   "outputs": [
    {
     "output_type": "stream",
     "name": "stdout",
     "text": [
      "[1] \"CRS and extent of Test Raster\"\n",
      "CRS arguments: +proj=longlat +datum=WGS84 +no_defs \n",
      "class      : Extent \n",
      "xmin       : -71.14266 \n",
      "xmax       : -71.14231 \n",
      "ymin       : 42.81763 \n",
      "ymax       : 42.81883 \n",
      "[1] \"CRS and extent of Full Datacube\"\n",
      "CRS arguments: +proj=longlat +datum=WGS84 +no_defs \n",
      "class      : Extent \n",
      "xmin       : -68.62562 \n",
      "xmax       : -68.62446 \n",
      "ymin       : 44.84502 \n",
      "ymax       : 44.84654 \n"
     ]
    }
   ],
   "metadata": {}
  },
  {
   "cell_type": "code",
   "execution_count": null,
   "source": [
    "cropped_raster <- raster::crop(\n",
    "    test_raster,\n",
    "    full_cube,\n",
    "    filename = \"cropped_input.tif\")"
   ],
   "outputs": [],
   "metadata": {}
  },
  {
   "cell_type": "code",
   "execution_count": null,
   "source": [
    "segmentation_path <- \"E:/lecospec/Data/seg/\"\n",
    "manual_segmentation <- rgdal::readOGR(\n",
    "    segmentation_path,\n",
    "    verbose = TRUE,\n",
    "    layer = \"crown_delims\")\n"
   ],
   "outputs": [],
   "metadata": {}
  }
 ],
 "metadata": {
  "orig_nbformat": 4,
  "language_info": {
   "name": "R",
   "codemirror_mode": "r",
   "pygments_lexer": "r",
   "mimetype": "text/x-r-source",
   "file_extension": ".r",
   "version": "4.1.0"
  },
  "kernelspec": {
   "name": "ir",
   "display_name": "R",
   "language": "R"
  }
 },
 "nbformat": 4,
 "nbformat_minor": 2
}