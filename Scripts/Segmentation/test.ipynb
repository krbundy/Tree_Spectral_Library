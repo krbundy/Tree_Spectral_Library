{
 "cells": [
  {
   "cell_type": "code",
   "execution_count": null,
   "source": [
    "test <- c(1,2)"
   ],
   "outputs": [],
   "metadata": {}
  }
 ],
 "metadata": {
  "orig_nbformat": 4,
  "language_info": {
   "name": "R"
  },
  "kernelspec": {
   "name": "ir",
   "display_name": "R"
  }
 },
 "nbformat": 4,
 "nbformat_minor": 2
}